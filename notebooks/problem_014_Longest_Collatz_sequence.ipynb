{
 "cells": [
  {
   "cell_type": "markdown",
   "id": "8946c52d-a0eb-4fa8-a0db-2ddadb625a21",
   "metadata": {},
   "source": [
    "https://projecteuler.net/problem=14\n",
    "\n",
    "# Problem 014\n",
    "# Longest Collatz sequence\n",
    "\n",
    "The following iterative sequence is defined for the set of positive integers:\n",
    "\n",
    "```\n",
    "n → n/2 (n is even)\n",
    "n → 3n + 1 (n is odd)\n",
    "```\n",
    "\n",
    "Using the rule above and starting with 13, we generate the following sequence:\n",
    "```\n",
    "13 → 40 → 20 → 10 → 5 → 16 → 8 → 4 → 2 → 1\n",
    "```\n",
    "It can be seen that this sequence (starting at 13 and finishing at 1) contains 10 terms. Although it has not been proved yet (Collatz Problem), it is thought that all starting numbers finish at 1.\n",
    "\n",
    "Which starting number, under one million, produces the longest chain?\n",
    "\n",
    "NOTE: Once the chain starts the terms are allowed to go above one million."
   ]
  },
  {
   "cell_type": "code",
   "execution_count": 1,
   "id": "d5db9c22-196d-45a2-89d7-a93381d53dcd",
   "metadata": {},
   "outputs": [],
   "source": [
    "def collatz_sequence(n):\n",
    "    \"\"\" Return the list of Collatz sequences based on a rule:\n",
    "    n → n/2 (n is even)\n",
    "    n → 3n + 1 (n is odd)    \n",
    "    \n",
    "    Eg. collatz_sequence(13) returns\n",
    "    13 → 40 → 20 → 10 → 5 → 16 → 8 → 4 → 2 → 1\n",
    "    \n",
    "    Parameters\n",
    "    ----------\n",
    "    n (int): An int number\n",
    "\n",
    "    Return\n",
    "    ------\n",
    "    seq (list of int): collatz_sequence \"\"\"\n",
    "\n",
    "    if not isinstance(n, int) or n < 1:\n",
    "        return []\n",
    "    \n",
    "    seq = [n]\n",
    "    \n",
    "    while n > 1:\n",
    "        if n%2 == 0:\n",
    "            n = n/2\n",
    "        else:\n",
    "            n = 3*n + 1\n",
    "        seq.append(int(n))\n",
    "    \n",
    "    return seq"
   ]
  },
  {
   "cell_type": "code",
   "execution_count": 13,
   "id": "e8bcfbae-82a0-4fd3-a04c-43ee7e6cfa6e",
   "metadata": {},
   "outputs": [
    {
     "name": "stdout",
     "output_type": "stream",
     "text": [
      "Max length of Collatz sequence under 1000000 is 837799 (length = 525)\n",
      "\n",
      "[871, 2614, 1307, 3922, 1961, 5884, 2942, 1471, 4414, 2207, 6622, 3311, 9934, 4967, 14902, 7451, 22354, 11177, 33532, 16766, 8383, 25150, 12575, 37726, 18863, 56590, 28295, 84886, 42443, 127330, 63665, 190996, 95498, 47749, 143248, 71624, 35812, 17906, 8953, 26860, 13430, 6715, 20146, 10073, 30220, 15110, 7555, 22666, 11333, 34000, 17000, 8500, 4250, 2125, 6376, 3188, 1594, 797, 2392, 1196, 598, 299, 898, 449, 1348, 674, 337, 1012, 506, 253, 760, 380, 190, 95, 286, 143, 430, 215, 646, 323, 970, 485, 1456, 728, 364, 182, 91, 274, 137, 412, 206, 103, 310, 155, 466, 233, 700, 350, 175, 526, 263, 790, 395, 1186, 593, 1780, 890, 445, 1336, 668, 334, 167, 502, 251, 754, 377, 1132, 566, 283, 850, 425, 1276, 638, 319, 958, 479, 1438, 719, 2158, 1079, 3238, 1619, 4858, 2429, 7288, 3644, 1822, 911, 2734, 1367, 4102, 2051, 6154, 3077, 9232, 4616, 2308, 1154, 577, 1732, 866, 433, 1300, 650, 325, 976, 488, 244, 122, 61, 184, 92, 46, 23, 70, 35, 106, 53, 160, 80, 40, 20, 10, 5, 16, 8, 4, 2, 1]\n"
     ]
    }
   ],
   "source": [
    "n = 1000000 # test seq up to this number\n",
    "\n",
    "max_length = 0 # max length of seq\n",
    "max_n = 1\n",
    "\n",
    "for i in range(1, n+1):\n",
    "    seq = collatz_sequence(i)\n",
    "    if len(seq) > max_length:\n",
    "        max_length = len(seq)\n",
    "        max_n = i\n",
    "\n",
    "print(\"Max length of Collatz sequence under {} is {} (length = {})\".format(n, max_n, max_length))\n",
    "print(\"\")\n",
    "print(collatz_sequence(871))"
   ]
  },
  {
   "cell_type": "code",
   "execution_count": null,
   "id": "0c2142ee-5bc3-4c42-af26-16a37dc63588",
   "metadata": {},
   "outputs": [],
   "source": []
  },
  {
   "cell_type": "code",
   "execution_count": null,
   "id": "92b07909-c13d-4853-8745-8a4ec4c83312",
   "metadata": {},
   "outputs": [],
   "source": []
  },
  {
   "cell_type": "code",
   "execution_count": null,
   "id": "38479b0e-4ae6-4cc0-85a7-8de81c4e2556",
   "metadata": {},
   "outputs": [],
   "source": []
  }
 ],
 "metadata": {
  "kernelspec": {
   "display_name": "Python 3",
   "language": "python",
   "name": "python3"
  },
  "language_info": {
   "codemirror_mode": {
    "name": "ipython",
    "version": 3
   },
   "file_extension": ".py",
   "mimetype": "text/x-python",
   "name": "python",
   "nbconvert_exporter": "python",
   "pygments_lexer": "ipython3",
   "version": "3.8.5"
  }
 },
 "nbformat": 4,
 "nbformat_minor": 5
}
